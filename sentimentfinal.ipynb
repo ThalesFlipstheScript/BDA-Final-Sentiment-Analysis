{
 "cells": [
  {
   "cell_type": "code",
   "execution_count": 61,
   "id": "1b745256",
   "metadata": {
    "scrolled": true
   },
   "outputs": [
    {
     "name": "stdout",
     "output_type": "stream",
     "text": [
      "Requirement already satisfied: TextBlob in c:\\users\\anast\\anaconda3\\lib\\site-packages (0.17.1)\n",
      "Requirement already satisfied: nltk>=3.1 in c:\\users\\anast\\anaconda3\\lib\\site-packages (from TextBlob) (3.6.1)\n",
      "Requirement already satisfied: joblib in c:\\users\\anast\\anaconda3\\lib\\site-packages (from nltk>=3.1->TextBlob) (1.0.1)\n",
      "Requirement already satisfied: regex in c:\\users\\anast\\anaconda3\\lib\\site-packages (from nltk>=3.1->TextBlob) (2021.4.4)\n",
      "Requirement already satisfied: tqdm in c:\\users\\anast\\anaconda3\\lib\\site-packages (from nltk>=3.1->TextBlob) (4.59.0)\n",
      "Requirement already satisfied: click in c:\\users\\anast\\anaconda3\\lib\\site-packages (from nltk>=3.1->TextBlob) (7.1.2)\n",
      "Requirement already satisfied: unidecode in c:\\users\\anast\\anaconda3\\lib\\site-packages (1.3.4)\n",
      "Requirement already satisfied: wordcloud in c:\\users\\anast\\anaconda3\\lib\\site-packages (1.8.1)\n",
      "Requirement already satisfied: pillow in c:\\users\\anast\\anaconda3\\lib\\site-packages (from wordcloud) (8.2.0)\n",
      "Requirement already satisfied: numpy>=1.6.1 in c:\\users\\anast\\anaconda3\\lib\\site-packages (from wordcloud) (1.20.1)\n",
      "Requirement already satisfied: matplotlib in c:\\users\\anast\\anaconda3\\lib\\site-packages (from wordcloud) (3.3.4)\n",
      "Requirement already satisfied: pyparsing!=2.0.4,!=2.1.2,!=2.1.6,>=2.0.3 in c:\\users\\anast\\anaconda3\\lib\\site-packages (from matplotlib->wordcloud) (2.4.7)\n",
      "Requirement already satisfied: cycler>=0.10 in c:\\users\\anast\\anaconda3\\lib\\site-packages (from matplotlib->wordcloud) (0.10.0)\n",
      "Requirement already satisfied: kiwisolver>=1.0.1 in c:\\users\\anast\\anaconda3\\lib\\site-packages (from matplotlib->wordcloud) (1.3.1)\n",
      "Requirement already satisfied: python-dateutil>=2.1 in c:\\users\\anast\\anaconda3\\lib\\site-packages (from matplotlib->wordcloud) (2.8.1)\n",
      "Requirement already satisfied: six in c:\\users\\anast\\anaconda3\\lib\\site-packages (from cycler>=0.10->matplotlib->wordcloud) (1.15.0)\n",
      "Collecting mglearn\n",
      "  Downloading mglearn-0.1.9.tar.gz (540 kB)\n",
      "Requirement already satisfied: numpy in c:\\users\\anast\\anaconda3\\lib\\site-packages (from mglearn) (1.20.1)\n",
      "Requirement already satisfied: matplotlib in c:\\users\\anast\\anaconda3\\lib\\site-packages (from mglearn) (3.3.4)\n",
      "Requirement already satisfied: scikit-learn in c:\\users\\anast\\anaconda3\\lib\\site-packages (from mglearn) (0.24.1)\n",
      "Requirement already satisfied: pandas in c:\\users\\anast\\anaconda3\\lib\\site-packages (from mglearn) (1.2.4)\n",
      "Requirement already satisfied: pillow in c:\\users\\anast\\anaconda3\\lib\\site-packages (from mglearn) (8.2.0)\n",
      "Requirement already satisfied: cycler in c:\\users\\anast\\anaconda3\\lib\\site-packages (from mglearn) (0.10.0)\n",
      "Requirement already satisfied: imageio in c:\\users\\anast\\anaconda3\\lib\\site-packages (from mglearn) (2.9.0)\n",
      "Requirement already satisfied: joblib in c:\\users\\anast\\anaconda3\\lib\\site-packages (from mglearn) (1.0.1)\n",
      "Requirement already satisfied: six in c:\\users\\anast\\anaconda3\\lib\\site-packages (from cycler->mglearn) (1.15.0)\n",
      "Requirement already satisfied: pyparsing!=2.0.4,!=2.1.2,!=2.1.6,>=2.0.3 in c:\\users\\anast\\anaconda3\\lib\\site-packages (from matplotlib->mglearn) (2.4.7)\n",
      "Requirement already satisfied: python-dateutil>=2.1 in c:\\users\\anast\\anaconda3\\lib\\site-packages (from matplotlib->mglearn) (2.8.1)\n",
      "Requirement already satisfied: kiwisolver>=1.0.1 in c:\\users\\anast\\anaconda3\\lib\\site-packages (from matplotlib->mglearn) (1.3.1)\n",
      "Requirement already satisfied: pytz>=2017.3 in c:\\users\\anast\\anaconda3\\lib\\site-packages (from pandas->mglearn) (2021.1)\n",
      "Requirement already satisfied: threadpoolctl>=2.0.0 in c:\\users\\anast\\anaconda3\\lib\\site-packages (from scikit-learn->mglearn) (2.1.0)\n",
      "Requirement already satisfied: scipy>=0.19.1 in c:\\users\\anast\\anaconda3\\lib\\site-packages (from scikit-learn->mglearn) (1.6.2)\n",
      "Building wheels for collected packages: mglearn\n",
      "  Building wheel for mglearn (setup.py): started\n",
      "  Building wheel for mglearn (setup.py): finished with status 'done'\n",
      "  Created wheel for mglearn: filename=mglearn-0.1.9-py2.py3-none-any.whl size=582638 sha256=374b1bda26eeeb531308faaf5162163526b85d60bdc2025b2362f63a897f7536\n",
      "  Stored in directory: c:\\users\\anast\\appdata\\local\\pip\\cache\\wheels\\87\\75\\37\\404e66d0c4bad150f101c9a0914b11a8eccc2681559936e7f7\n",
      "Successfully built mglearn\n",
      "Installing collected packages: mglearn\n",
      "Successfully installed mglearn-0.1.9\n"
     ]
    }
   ],
   "source": [
    "!pip install TextBlob\n",
    "!pip install unidecode\n",
    "!pip install wordcloud\n",
    "!pip install mglearn"
   ]
  },
  {
   "cell_type": "markdown",
   "id": "127cb182",
   "metadata": {},
   "source": [
    "## Import libraries"
   ]
  },
  {
   "cell_type": "code",
   "execution_count": 1,
   "id": "e74d90c7",
   "metadata": {},
   "outputs": [
    {
     "name": "stderr",
     "output_type": "stream",
     "text": [
      "[nltk_data] Downloading package punkt to\n",
      "[nltk_data]     C:\\Users\\anast\\AppData\\Roaming\\nltk_data...\n",
      "[nltk_data]   Package punkt is already up-to-date!\n",
      "[nltk_data] Downloading package wordnet to\n",
      "[nltk_data]     C:\\Users\\anast\\AppData\\Roaming\\nltk_data...\n",
      "[nltk_data]   Package wordnet is already up-to-date!\n",
      "[nltk_data] Downloading package stopwords to\n",
      "[nltk_data]     C:\\Users\\anast\\AppData\\Roaming\\nltk_data...\n",
      "[nltk_data]   Package stopwords is already up-to-date!\n"
     ]
    }
   ],
   "source": [
    "import sys\n",
    "# import libraries\n",
    "import numpy as np\n",
    "import pandas as pd\n",
    "from nltk.tokenize import word_tokenize\n",
    "from nltk.stem import WordNetLemmatizer\n",
    "from sklearn.metrics import confusion_matrix\n",
    "from sklearn.model_selection import train_test_split\n",
    "from sklearn.feature_extraction.text import CountVectorizer, TfidfTransformer\n",
    "from sqlalchemy import create_engine\n",
    "import sqlite3\n",
    "from sklearn.multioutput import MultiOutputClassifier\n",
    "from sklearn.pipeline import Pipeline\n",
    "from sklearn.ensemble import RandomForestClassifier\n",
    "from sklearn.model_selection import GridSearchCV\n",
    "from sklearn.model_selection import cross_val_score\n",
    "from sklearn.metrics import classification_report, accuracy_score\n",
    "from sklearn.naive_bayes import MultinomialNB\n",
    "from sklearn.tree import DecisionTreeClassifier\n",
    "from sklearn.linear_model import LogisticRegression\n",
    "import matplotlib.pyplot as plt\n",
    "import seaborn as sns\n",
    "import pickle\n",
    "import nltk\n",
    "import mglearn\n",
    "\n",
    "nltk.download(['punkt', 'wordnet', 'stopwords'])\n",
    "import re\n",
    "from nltk.corpus import stopwords"
   ]
  },
  {
   "cell_type": "markdown",
   "id": "58fcbdaa",
   "metadata": {},
   "source": [
    "## Importing training and test data set"
   ]
  },
  {
   "cell_type": "code",
   "execution_count": 2,
   "id": "859e8ab7",
   "metadata": {},
   "outputs": [],
   "source": [
    "columns = ['sentiment', 'id', 'date', 'query', 'user_id', 'text'] \n",
    "train_df = pd.read_csv('traindata.csv', header=None, names=columns)"
   ]
  },
  {
   "cell_type": "code",
   "execution_count": 3,
   "id": "a99821f9",
   "metadata": {},
   "outputs": [
    {
     "data": {
      "text/html": [
       "<div>\n",
       "<style scoped>\n",
       "    .dataframe tbody tr th:only-of-type {\n",
       "        vertical-align: middle;\n",
       "    }\n",
       "\n",
       "    .dataframe tbody tr th {\n",
       "        vertical-align: top;\n",
       "    }\n",
       "\n",
       "    .dataframe thead th {\n",
       "        text-align: right;\n",
       "    }\n",
       "</style>\n",
       "<table border=\"1\" class=\"dataframe\">\n",
       "  <thead>\n",
       "    <tr style=\"text-align: right;\">\n",
       "      <th></th>\n",
       "      <th>sentiment</th>\n",
       "      <th>id</th>\n",
       "      <th>date</th>\n",
       "      <th>query</th>\n",
       "      <th>user_id</th>\n",
       "      <th>text</th>\n",
       "    </tr>\n",
       "  </thead>\n",
       "  <tbody>\n",
       "    <tr>\n",
       "      <th>0</th>\n",
       "      <td>0</td>\n",
       "      <td>1467810369</td>\n",
       "      <td>Mon Apr 06 22:19:45 PDT 2009</td>\n",
       "      <td>NO_QUERY</td>\n",
       "      <td>_TheSpecialOne_</td>\n",
       "      <td>@switchfoot http://twitpic.com/2y1zl - Awww, t...</td>\n",
       "    </tr>\n",
       "    <tr>\n",
       "      <th>1</th>\n",
       "      <td>0</td>\n",
       "      <td>1467810672</td>\n",
       "      <td>Mon Apr 06 22:19:49 PDT 2009</td>\n",
       "      <td>NO_QUERY</td>\n",
       "      <td>scotthamilton</td>\n",
       "      <td>is upset that he can't update his Facebook by ...</td>\n",
       "    </tr>\n",
       "    <tr>\n",
       "      <th>2</th>\n",
       "      <td>0</td>\n",
       "      <td>1467810917</td>\n",
       "      <td>Mon Apr 06 22:19:53 PDT 2009</td>\n",
       "      <td>NO_QUERY</td>\n",
       "      <td>mattycus</td>\n",
       "      <td>@Kenichan I dived many times for the ball. Man...</td>\n",
       "    </tr>\n",
       "    <tr>\n",
       "      <th>3</th>\n",
       "      <td>0</td>\n",
       "      <td>1467811184</td>\n",
       "      <td>Mon Apr 06 22:19:57 PDT 2009</td>\n",
       "      <td>NO_QUERY</td>\n",
       "      <td>ElleCTF</td>\n",
       "      <td>my whole body feels itchy and like its on fire</td>\n",
       "    </tr>\n",
       "    <tr>\n",
       "      <th>4</th>\n",
       "      <td>0</td>\n",
       "      <td>1467811193</td>\n",
       "      <td>Mon Apr 06 22:19:57 PDT 2009</td>\n",
       "      <td>NO_QUERY</td>\n",
       "      <td>Karoli</td>\n",
       "      <td>@nationwideclass no, it's not behaving at all....</td>\n",
       "    </tr>\n",
       "  </tbody>\n",
       "</table>\n",
       "</div>"
      ],
      "text/plain": [
       "   sentiment          id                          date     query  \\\n",
       "0          0  1467810369  Mon Apr 06 22:19:45 PDT 2009  NO_QUERY   \n",
       "1          0  1467810672  Mon Apr 06 22:19:49 PDT 2009  NO_QUERY   \n",
       "2          0  1467810917  Mon Apr 06 22:19:53 PDT 2009  NO_QUERY   \n",
       "3          0  1467811184  Mon Apr 06 22:19:57 PDT 2009  NO_QUERY   \n",
       "4          0  1467811193  Mon Apr 06 22:19:57 PDT 2009  NO_QUERY   \n",
       "\n",
       "           user_id                                               text  \n",
       "0  _TheSpecialOne_  @switchfoot http://twitpic.com/2y1zl - Awww, t...  \n",
       "1    scotthamilton  is upset that he can't update his Facebook by ...  \n",
       "2         mattycus  @Kenichan I dived many times for the ball. Man...  \n",
       "3          ElleCTF    my whole body feels itchy and like its on fire   \n",
       "4           Karoli  @nationwideclass no, it's not behaving at all....  "
      ]
     },
     "execution_count": 3,
     "metadata": {},
     "output_type": "execute_result"
    }
   ],
   "source": [
    "train_df.head()"
   ]
  },
  {
   "cell_type": "code",
   "execution_count": 4,
   "id": "a8579fce",
   "metadata": {},
   "outputs": [
    {
     "data": {
      "text/plain": [
       "0    800000\n",
       "4    800000\n",
       "Name: sentiment, dtype: int64"
      ]
     },
     "execution_count": 4,
     "metadata": {},
     "output_type": "execute_result"
    }
   ],
   "source": [
    "# Checking the data's output balance\n",
    "# The label '4' denotes positive sentiment and '0' denotes negative sentiment\n",
    "train_df['sentiment'].value_counts()"
   ]
  },
  {
   "cell_type": "markdown",
   "id": "f5905570",
   "metadata": {},
   "source": [
    "## Preprocessing "
   ]
  },
  {
   "cell_type": "code",
   "execution_count": 5,
   "id": "521648d1",
   "metadata": {},
   "outputs": [],
   "source": [
    "#Drop features we don't need \n",
    "train_df = train_df.drop(['id', 'date', 'query', 'user_id'], axis=1)"
   ]
  },
  {
   "cell_type": "code",
   "execution_count": 6,
   "id": "f27e4a65",
   "metadata": {},
   "outputs": [
    {
     "name": "stdout",
     "output_type": "stream",
     "text": [
      "800000 800000\n"
     ]
    }
   ],
   "source": [
    "# Separating positive and negative rows\n",
    "df_pos = train_df[train_df['sentiment'] == 4]\n",
    "df_neg = train_df[train_df['sentiment'] == 0]\n",
    "print(len(df_pos), len(df_neg))"
   ]
  },
  {
   "cell_type": "code",
   "execution_count": 7,
   "id": "cc28d959",
   "metadata": {},
   "outputs": [
    {
     "name": "stdout",
     "output_type": "stream",
     "text": [
      "160000 160000\n"
     ]
    }
   ],
   "source": [
    "# Only retaining 1/4th of our data from each output group\n",
    "# Feel free to alter the dividing factor depending on your workspace\n",
    "# 1/64 is a good place to start if you're unsure about your machine's power\n",
    "df_pos = df_pos.iloc[:int(len(df_pos)/5)]\n",
    "df_neg = df_neg.iloc[:int(len(df_neg)/5)]\n",
    "print(len(df_pos), len(df_neg))"
   ]
  },
  {
   "cell_type": "code",
   "execution_count": 8,
   "id": "aaf958a2",
   "metadata": {},
   "outputs": [
    {
     "data": {
      "text/plain": [
       "320000"
      ]
     },
     "execution_count": 8,
     "metadata": {},
     "output_type": "execute_result"
    }
   ],
   "source": [
    "# Concatinating both positive and negative groups and storing them back into a single dataframe\n",
    "train_df = pd.concat([df_pos, df_neg])\n",
    "len(train_df)"
   ]
  },
  {
   "cell_type": "code",
   "execution_count": 10,
   "id": "b2c06d1a",
   "metadata": {},
   "outputs": [
    {
     "data": {
      "image/png": "[encoded data removed]",
      "text/plain": [
       "<Figure size 432x288 with 1 Axes>"
      ]
     },
     "metadata": {
      "needs_background": "light"
     },
     "output_type": "display_data"
    },
    {
     "data": {
      "text/plain": [
       "count    320000.000000\n",
       "mean         74.094828\n",
       "std          36.416134\n",
       "min           6.000000\n",
       "25%          44.000000\n",
       "50%          69.000000\n",
       "75%         104.000000\n",
       "max         186.000000\n",
       "dtype: float64"
      ]
     },
     "execution_count": 10,
     "metadata": {},
     "output_type": "execute_result"
    }
   ],
   "source": [
    "# Analyzing Train Tweet Length\n",
    "#import pandas as pd\n",
    "#import matplotlib.pyplot as plt\n",
    "%matplotlib inline\n",
    "tweets_len = [len(x) for x in train_df['text']]\n",
    "pd.Series(tweets_len).hist()\n",
    "plt.show()\n",
    "pd.Series(tweets_len).describe()"
   ]
  },
  {
   "cell_type": "markdown",
   "id": "172fa2a0",
   "metadata": {},
   "source": [
    "### Normalisation, tokenization, lemmatization and removal of stopwords"
   ]
  },
  {
   "cell_type": "code",
   "execution_count": 11,
   "id": "69d0bdc6",
   "metadata": {},
   "outputs": [
    {
     "name": "stderr",
     "output_type": "stream",
     "text": [
      "<ipython-input-11-de1aca11888d>:2: FutureWarning: The default value of regex will change from True to False in a future version.\n",
      "  train_df['sentiment_text'] = train_df['sentiment_text'].str.replace(r'http\\S+','')\n",
      "<ipython-input-11-de1aca11888d>:3: FutureWarning: The default value of regex will change from True to False in a future version.\n",
      "  train_df['sentiment_text'] = train_df['sentiment_text'].str.replace('[^a-zA-Z]',' ')\n"
     ]
    }
   ],
   "source": [
    "train_df['sentiment_text'] = train_df['text'].str.replace('@','')\n",
    "train_df['sentiment_text'] = train_df['sentiment_text'].str.replace(r'http\\S+','')\n",
    "train_df['sentiment_text'] = train_df['sentiment_text'].str.replace('[^a-zA-Z]',' ')"
   ]
  },
  {
   "cell_type": "code",
   "execution_count": 12,
   "id": "8c3599f7",
   "metadata": {},
   "outputs": [],
   "source": [
    "stopwords = stopwords.words('english')"
   ]
  },
  {
   "cell_type": "code",
   "execution_count": 13,
   "id": "df044f32",
   "metadata": {},
   "outputs": [],
   "source": [
    "def remove_stopwords(text):\n",
    "    clean_text=' '.join([word for word in text.split() if word not in stopwords])\n",
    "    return clean_text"
   ]
  },
  {
   "cell_type": "code",
   "execution_count": 14,
   "id": "0204a455",
   "metadata": {},
   "outputs": [],
   "source": [
    "train_df['sentiment_text'] = train_df['sentiment_text'].apply(lambda text : remove_stopwords(text.lower()))"
   ]
  },
  {
   "cell_type": "code",
   "execution_count": 15,
   "id": "02a087b8",
   "metadata": {},
   "outputs": [],
   "source": [
    "train_df['sentiment_text'] = train_df['sentiment_text'].apply(lambda x: nltk.word_tokenize(x))"
   ]
  },
  {
   "cell_type": "code",
   "execution_count": 16,
   "id": "d6900532",
   "metadata": {},
   "outputs": [
    {
     "data": {
      "text/html": [
       "<div>\n",
       "<style scoped>\n",
       "    .dataframe tbody tr th:only-of-type {\n",
       "        vertical-align: middle;\n",
       "    }\n",
       "\n",
       "    .dataframe tbody tr th {\n",
       "        vertical-align: top;\n",
       "    }\n",
       "\n",
       "    .dataframe thead th {\n",
       "        text-align: right;\n",
       "    }\n",
       "</style>\n",
       "<table border=\"1\" class=\"dataframe\">\n",
       "  <thead>\n",
       "    <tr style=\"text-align: right;\">\n",
       "      <th></th>\n",
       "      <th>sentiment</th>\n",
       "      <th>text</th>\n",
       "      <th>sentiment_text</th>\n",
       "    </tr>\n",
       "  </thead>\n",
       "  <tbody>\n",
       "    <tr>\n",
       "      <th>800000</th>\n",
       "      <td>4</td>\n",
       "      <td>I LOVE @Health4UandPets u guys r the best!!</td>\n",
       "      <td>[love, health, uandpets, u, guys, r, best]</td>\n",
       "    </tr>\n",
       "    <tr>\n",
       "      <th>800001</th>\n",
       "      <td>4</td>\n",
       "      <td>im meeting up with one of my besties tonight! ...</td>\n",
       "      <td>[im, meeting, one, besties, tonight, cant, wai...</td>\n",
       "    </tr>\n",
       "    <tr>\n",
       "      <th>800002</th>\n",
       "      <td>4</td>\n",
       "      <td>@DaRealSunisaKim Thanks for the Twitter add, S...</td>\n",
       "      <td>[darealsunisakim, thanks, twitter, add, sunisa...</td>\n",
       "    </tr>\n",
       "    <tr>\n",
       "      <th>800003</th>\n",
       "      <td>4</td>\n",
       "      <td>Being sick can be really cheap when it hurts t...</td>\n",
       "      <td>[sick, really, cheap, hurts, much, eat, real, ...</td>\n",
       "    </tr>\n",
       "    <tr>\n",
       "      <th>800004</th>\n",
       "      <td>4</td>\n",
       "      <td>@LovesBrooklyn2 he has that effect on everyone</td>\n",
       "      <td>[lovesbrooklyn, effect, everyone]</td>\n",
       "    </tr>\n",
       "  </tbody>\n",
       "</table>\n",
       "</div>"
      ],
      "text/plain": [
       "        sentiment                                               text  \\\n",
       "800000          4       I LOVE @Health4UandPets u guys r the best!!    \n",
       "800001          4  im meeting up with one of my besties tonight! ...   \n",
       "800002          4  @DaRealSunisaKim Thanks for the Twitter add, S...   \n",
       "800003          4  Being sick can be really cheap when it hurts t...   \n",
       "800004          4    @LovesBrooklyn2 he has that effect on everyone    \n",
       "\n",
       "                                           sentiment_text  \n",
       "800000         [love, health, uandpets, u, guys, r, best]  \n",
       "800001  [im, meeting, one, besties, tonight, cant, wai...  \n",
       "800002  [darealsunisakim, thanks, twitter, add, sunisa...  \n",
       "800003  [sick, really, cheap, hurts, much, eat, real, ...  \n",
       "800004                  [lovesbrooklyn, effect, everyone]  "
      ]
     },
     "execution_count": 16,
     "metadata": {},
     "output_type": "execute_result"
    }
   ],
   "source": [
    "train_df.head()"
   ]
  },
  {
   "cell_type": "code",
   "execution_count": 17,
   "id": "60f85b09",
   "metadata": {},
   "outputs": [],
   "source": [
    "wordnet=WordNetLemmatizer()\n",
    "train_df['sentiment_text'] = train_df['sentiment_text'].apply(lambda x : [wordnet.lemmatize(i) for i in x])"
   ]
  },
  {
   "cell_type": "code",
   "execution_count": 18,
   "id": "477e2403",
   "metadata": {},
   "outputs": [],
   "source": [
    "train_df['sentiment_text'] = train_df['sentiment_text'].apply(lambda x : ' '.join([w for w in x]))"
   ]
  },
  {
   "cell_type": "code",
   "execution_count": 19,
   "id": "b4e5ed31",
   "metadata": {},
   "outputs": [],
   "source": [
    "train_df['sentiment_text'] = train_df['sentiment_text'].apply(lambda x : ' '.join([w for w in x.split()]))"
   ]
  },
  {
   "cell_type": "code",
   "execution_count": 20,
   "id": "55815917",
   "metadata": {},
   "outputs": [
    {
     "data": {
      "text/html": [
       "<div>\n",
       "<style scoped>\n",
       "    .dataframe tbody tr th:only-of-type {\n",
       "        vertical-align: middle;\n",
       "    }\n",
       "\n",
       "    .dataframe tbody tr th {\n",
       "        vertical-align: top;\n",
       "    }\n",
       "\n",
       "    .dataframe thead th {\n",
       "        text-align: right;\n",
       "    }\n",
       "</style>\n",
       "<table border=\"1\" class=\"dataframe\">\n",
       "  <thead>\n",
       "    <tr style=\"text-align: right;\">\n",
       "      <th></th>\n",
       "      <th>sentiment</th>\n",
       "      <th>text</th>\n",
       "      <th>sentiment_text</th>\n",
       "    </tr>\n",
       "  </thead>\n",
       "  <tbody>\n",
       "    <tr>\n",
       "      <th>800000</th>\n",
       "      <td>4</td>\n",
       "      <td>I LOVE @Health4UandPets u guys r the best!!</td>\n",
       "      <td>love health uandpets u guy r best</td>\n",
       "    </tr>\n",
       "    <tr>\n",
       "      <th>800001</th>\n",
       "      <td>4</td>\n",
       "      <td>im meeting up with one of my besties tonight! ...</td>\n",
       "      <td>im meeting one besties tonight cant wait girl ...</td>\n",
       "    </tr>\n",
       "    <tr>\n",
       "      <th>800002</th>\n",
       "      <td>4</td>\n",
       "      <td>@DaRealSunisaKim Thanks for the Twitter add, S...</td>\n",
       "      <td>darealsunisakim thanks twitter add sunisa got ...</td>\n",
       "    </tr>\n",
       "    <tr>\n",
       "      <th>800003</th>\n",
       "      <td>4</td>\n",
       "      <td>Being sick can be really cheap when it hurts t...</td>\n",
       "      <td>sick really cheap hurt much eat real food plus...</td>\n",
       "    </tr>\n",
       "    <tr>\n",
       "      <th>800004</th>\n",
       "      <td>4</td>\n",
       "      <td>@LovesBrooklyn2 he has that effect on everyone</td>\n",
       "      <td>lovesbrooklyn effect everyone</td>\n",
       "    </tr>\n",
       "  </tbody>\n",
       "</table>\n",
       "</div>"
      ],
      "text/plain": [
       "        sentiment                                               text  \\\n",
       "800000          4       I LOVE @Health4UandPets u guys r the best!!    \n",
       "800001          4  im meeting up with one of my besties tonight! ...   \n",
       "800002          4  @DaRealSunisaKim Thanks for the Twitter add, S...   \n",
       "800003          4  Being sick can be really cheap when it hurts t...   \n",
       "800004          4    @LovesBrooklyn2 he has that effect on everyone    \n",
       "\n",
       "                                           sentiment_text  \n",
       "800000                  love health uandpets u guy r best  \n",
       "800001  im meeting one besties tonight cant wait girl ...  \n",
       "800002  darealsunisakim thanks twitter add sunisa got ...  \n",
       "800003  sick really cheap hurt much eat real food plus...  \n",
       "800004                      lovesbrooklyn effect everyone  "
      ]
     },
     "execution_count": 20,
     "metadata": {},
     "output_type": "execute_result"
    }
   ],
   "source": [
    "train_df.head()"
   ]
  },
  {
   "cell_type": "code",
   "execution_count": 23,
   "id": "2d1bea08",
   "metadata": {},
   "outputs": [],
   "source": [
    "#test_df['sentiment_text'] = test_df['text'].str.replace('@','')\n",
    "#test_df['sentiment_text'] = test_df['sentiment_text'].str.replace(r'http\\S+','')\n",
    "#test_df['sentiment_text'] = test_df['sentiment_text'].str.replace('[^a-zA-Z]',' ')"
   ]
  },
  {
   "cell_type": "code",
   "execution_count": 24,
   "id": "b2b45922",
   "metadata": {},
   "outputs": [],
   "source": [
    "#test_df['sentiment_text'] = test_df['sentiment_text'].apply(lambda text : remove_stopwords(text.lower()))"
   ]
  },
  {
   "cell_type": "code",
   "execution_count": 25,
   "id": "75d4f407",
   "metadata": {},
   "outputs": [],
   "source": [
    "#test_df['sentiment_text'] = test_df['sentiment_text'].apply(lambda x: nltk.word_tokenize(x))"
   ]
  },
  {
   "cell_type": "code",
   "execution_count": 26,
   "id": "777bd723",
   "metadata": {},
   "outputs": [],
   "source": [
    "#test_df['sentiment_text'] = test_df['sentiment_text'].apply(lambda x : [wordnet.lemmatize(i) for i in x])"
   ]
  },
  {
   "cell_type": "code",
   "execution_count": 27,
   "id": "069182f5",
   "metadata": {},
   "outputs": [],
   "source": [
    "#test_df['sentiment_text'] = test_df['sentiment_text'].apply(lambda x : ' '.join([w for w in x]))"
   ]
  },
  {
   "cell_type": "code",
   "execution_count": 28,
   "id": "3fa85139",
   "metadata": {},
   "outputs": [],
   "source": [
    "#test_df['sentiment_text'] = test_df['sentiment_text'].apply(lambda x : ' '.join([w for w in x.split()]))"
   ]
  },
  {
   "cell_type": "code",
   "execution_count": 24,
   "id": "bb9ee915",
   "metadata": {},
   "outputs": [],
   "source": [
    "#test_df.head()"
   ]
  },
  {
   "cell_type": "markdown",
   "id": "cb0cd5fd",
   "metadata": {},
   "source": [
    "### Countvectorization "
   ]
  },
  {
   "cell_type": "code",
   "execution_count": 21,
   "id": "e91484e7",
   "metadata": {},
   "outputs": [
    {
     "name": "stdout",
     "output_type": "stream",
     "text": [
      "Count_train:\n",
      "<320000x26627 sparse matrix of type '<class 'numpy.int64'>'\n",
      "\twith 2198223 stored elements in Compressed Sparse Row format>\n"
     ]
    }
   ],
   "source": [
    "# Initialize a CountVectorizer object: count_vectorizer\n",
    "count_vectorizer = CountVectorizer(min_df=10, encoding='latin-1', ngram_range=(1, 2), stop_words='english')\n",
    "\n",
    "# Transform the training data using only the 'text' column values: count_train \n",
    "count_train = count_vectorizer.fit_transform(train_df[\"sentiment_text\"])\n",
    "\n",
    "# Transform the test data using only the 'text' column values: count_test \n",
    "#count_test = count_vectorizer.transform(test_df[\"sentiment_text\"])\n",
    "\n",
    "print(\"Count_train:\\n{}\".format(repr(count_train)))"
   ]
  },
  {
   "cell_type": "markdown",
   "id": "9d3ec392",
   "metadata": {},
   "source": [
    "### Term Frequency — Inverse-Term Frequency (TFIDF) transformer"
   ]
  },
  {
   "cell_type": "code",
   "execution_count": 22,
   "id": "7f47523c",
   "metadata": {},
   "outputs": [
    {
     "data": {
      "text/plain": [
       "(320000, 26627)"
      ]
     },
     "execution_count": 22,
     "metadata": {},
     "output_type": "execute_result"
    }
   ],
   "source": [
    "from sklearn.feature_extraction.text import TfidfTransformer\n",
    "tf_transformer = TfidfTransformer(use_idf=False).fit(count_train)\n",
    "X_train_tf = tf_transformer.transform(count_train)\n",
    "X_train_tf.shape\n",
    "#tfidf without idf"
   ]
  },
  {
   "cell_type": "code",
   "execution_count": 23,
   "id": "a2dd2cee",
   "metadata": {},
   "outputs": [
    {
     "data": {
      "text/plain": [
       "(320000, 26627)"
      ]
     },
     "execution_count": 23,
     "metadata": {},
     "output_type": "execute_result"
    }
   ],
   "source": [
    "tfidf_transformer = TfidfTransformer()\n",
    "X_train_tfidf = tfidf_transformer.fit_transform(count_train)\n",
    "#X_test_tfidf = tfidf_transformer.transform(count_test)\n",
    "X_train_tfidf.shape\n",
    "#with idf"
   ]
  },
  {
   "cell_type": "markdown",
   "id": "c607dba8",
   "metadata": {},
   "source": [
    "## Modeling"
   ]
  },
  {
   "cell_type": "code",
   "execution_count": 23,
   "id": "093e4688",
   "metadata": {},
   "outputs": [],
   "source": [
    "def applyModel(model,name,X_train, y_train, X_test, y_test):\n",
    "    m = model.fit(X_train,y_train)\n",
    "    print(\"{} Training score: {:.3f}\".format(name, m.score(X_train, y_train)))\n",
    "    print(\"{} Test score: {:.3f}\".format(name, m.score(X_test, y_test)))\n",
    "    return m"
   ]
  },
  {
   "cell_type": "code",
   "execution_count": 24,
   "id": "6fee0dd9",
   "metadata": {},
   "outputs": [],
   "source": [
    "X_train,X_test,y_train,y_test = train_test_split(X_train_tfidf ,train_df['sentiment'],test_size = 0.2,random_state = 42)"
   ]
  },
  {
   "cell_type": "code",
   "execution_count": 34,
   "id": "ce5d3306",
   "metadata": {},
   "outputs": [],
   "source": [
    "#X_train = X_train_tfidf\n",
    "#y_train = train_df['sentiment']\n",
    "#X_test = X_test_tfidf\n",
    "#y_test = test_df['sentiment']"
   ]
  },
  {
   "cell_type": "markdown",
   "id": "a2bfca16",
   "metadata": {},
   "source": [
    "### Logistic regression"
   ]
  },
  {
   "cell_type": "code",
   "execution_count": 31,
   "id": "9a2891af",
   "metadata": {},
   "outputs": [
    {
     "name": "stdout",
     "output_type": "stream",
     "text": [
      "logreg Training score: 0.799\n",
      "logreg Test score: 0.768\n"
     ]
    },
    {
     "name": "stderr",
     "output_type": "stream",
     "text": [
      "C:\\Users\\anast\\anaconda3\\lib\\site-packages\\sklearn\\linear_model\\_logistic.py:763: ConvergenceWarning: lbfgs failed to converge (status=1):\n",
      "STOP: TOTAL NO. of ITERATIONS REACHED LIMIT.\n",
      "\n",
      "Increase the number of iterations (max_iter) or scale the data as shown in:\n",
      "    https://scikit-learn.org/stable/modules/preprocessing.html\n",
      "Please also refer to the documentation for alternative solver options:\n",
      "    https://scikit-learn.org/stable/modules/linear_model.html#logistic-regression\n",
      "  n_iter_i = _check_optimize_result(\n"
     ]
    }
   ],
   "source": [
    "logreg = LogisticRegression(C=1)\n",
    "logmodel = applyModel(logreg,\"logreg\", X_train, y_train, X_test, y_test)"
   ]
  },
  {
   "cell_type": "markdown",
   "id": "74dd227f",
   "metadata": {},
   "source": [
    "### Multinominal Naive Bayes"
   ]
  },
  {
   "cell_type": "code",
   "execution_count": 32,
   "id": "eb3c3024",
   "metadata": {},
   "outputs": [
    {
     "name": "stdout",
     "output_type": "stream",
     "text": [
      "naive bayes Training score: 0.782\n",
      "naive bayes Test score: 0.753\n"
     ]
    }
   ],
   "source": [
    "nbModel = MultinomialNB()\n",
    "nbmodel = applyModel(nbModel,\"naive bayes\", X_train, y_train, X_test, y_test)"
   ]
  },
  {
   "cell_type": "markdown",
   "id": "60d12f8a",
   "metadata": {},
   "source": [
    "## Hypertuning using GridSearch"
   ]
  },
  {
   "cell_type": "code",
   "execution_count": 24,
   "id": "791d5303",
   "metadata": {},
   "outputs": [],
   "source": [
    "X_train,X_test,y_train,y_test = train_test_split(train_df['sentiment_text'] ,train_df['sentiment'],test_size = 0.2,random_state = 42)"
   ]
  },
  {
   "cell_type": "code",
   "execution_count": 25,
   "id": "7c7bfea3",
   "metadata": {},
   "outputs": [
    {
     "data": {
      "text/plain": [
       "4    0.501031\n",
       "0    0.498969\n",
       "Name: sentiment, dtype: float64"
      ]
     },
     "execution_count": 25,
     "metadata": {},
     "output_type": "execute_result"
    }
   ],
   "source": [
    "y_test.value_counts(normalize=True)"
   ]
  },
  {
   "cell_type": "markdown",
   "id": "b3fb7e92",
   "metadata": {},
   "source": [
    "### Logistic regression C parameter and n-gram setting"
   ]
  },
  {
   "cell_type": "code",
   "execution_count": 26,
   "id": "0a1da489",
   "metadata": {},
   "outputs": [],
   "source": [
    "from sklearn.model_selection import GridSearchCV\n",
    "parameters = {'vect__ngram_range': [(1, 1), (1, 2)], 'lr__C': [0.001, 0.01, 0.1, 1, 10]}"
   ]
  },
  {
   "cell_type": "code",
   "execution_count": 27,
   "id": "73164d8b",
   "metadata": {},
   "outputs": [],
   "source": [
    "pipe = Pipeline([('vect', CountVectorizer()),('tfidf', TfidfTransformer()),('lr', LogisticRegression(solver='lbfgs',max_iter=1000))])"
   ]
  },
  {
   "cell_type": "code",
   "execution_count": 28,
   "id": "177d6526",
   "metadata": {},
   "outputs": [],
   "source": [
    "gs_logreg = GridSearchCV(pipe, parameters, cv=5, n_jobs=1)"
   ]
  },
  {
   "cell_type": "code",
   "execution_count": 49,
   "id": "13a2d29f",
   "metadata": {},
   "outputs": [
    {
     "name": "stdout",
     "output_type": "stream",
     "text": [
      "Best cross-validation score: 0.78\n",
      "Best parameters:\n",
      "{'lr__C': 10, 'vect__ngram_range': (1, 2)}\n"
     ]
    }
   ],
   "source": [
    "model1 = gs_logreg.fit(X_train, y_train)\n",
    "print(\"Best cross-validation score: {:.2f}\".format(model1.best_score_))\n",
    "print(\"Best parameters:\\n{}\".format(model1.best_params_))"
   ]
  },
  {
   "cell_type": "code",
   "execution_count": 50,
   "id": "81e388b3",
   "metadata": {},
   "outputs": [
    {
     "name": "stdout",
     "output_type": "stream",
     "text": [
      "Training set score: 0.989\n",
      "Test score: 0.78\n"
     ]
    }
   ],
   "source": [
    "print(\"Training set score: {:.3f}\".format(gs_logreg.best_estimator_.score(X_train, y_train)))\n",
    "print(\"Test score: {:.2f}\".format(gs_logreg.best_estimator_.score(X_test, y_test)))"
   ]
  },
  {
   "cell_type": "markdown",
   "id": "af54aa45",
   "metadata": {},
   "source": [
    "### MultinominalNB, n-gram setting and alpha"
   ]
  },
  {
   "cell_type": "code",
   "execution_count": 58,
   "id": "f9db4abd",
   "metadata": {},
   "outputs": [],
   "source": [
    "parameters = {'vect__ngram_range': [(1, 1), (1, 2)], 'clf__alpha': [0.1, 5, .01]}\n",
    "pipe2 = Pipeline([('vect', CountVectorizer(min_df=10, max_df=.5)),('tfidf', TfidfTransformer()),('clf', MultinomialNB())])"
   ]
  },
  {
   "cell_type": "code",
   "execution_count": 59,
   "id": "a1117573",
   "metadata": {},
   "outputs": [],
   "source": [
    "gs_nb = GridSearchCV(pipe2, parameters, cv=5, n_jobs=1)"
   ]
  },
  {
   "cell_type": "code",
   "execution_count": 60,
   "id": "c8cdd44b",
   "metadata": {},
   "outputs": [
    {
     "name": "stdout",
     "output_type": "stream",
     "text": [
      "Best cross-validation score: 0.76\n",
      "Best parameters:\n",
      "{'clf__alpha': 5, 'vect__ngram_range': (1, 2)}\n"
     ]
    }
   ],
   "source": [
    "model2 = gs_nb.fit(X_train, y_train)\n",
    "print(\"Best cross-validation score: {:.2f}\".format(model2.best_score_))\n",
    "print(\"Best parameters:\\n{}\".format(model2.best_params_))"
   ]
  },
  {
   "cell_type": "code",
   "execution_count": 61,
   "id": "5546743c",
   "metadata": {},
   "outputs": [
    {
     "name": "stdout",
     "output_type": "stream",
     "text": [
      "Training set score: 0.783\n",
      "Test score: 0.76\n"
     ]
    }
   ],
   "source": [
    "print(\"Training set score: {:.3f}\".format(gs_nb.best_estimator_.score(X_train, y_train)))\n",
    "print(\"Test score: {:.2f}\".format(gs_nb.best_estimator_.score(X_test, y_test)))"
   ]
  },
  {
   "cell_type": "markdown",
   "id": "57489ec4",
   "metadata": {},
   "source": [
    "# Visualization"
   ]
  },
  {
   "cell_type": "code",
   "execution_count": 63,
   "id": "e9e78035",
   "metadata": {},
   "outputs": [],
   "source": [
    "pred_logreg = model1.predict(X_test)"
   ]
  },
  {
   "cell_type": "code",
   "execution_count": 64,
   "id": "b091414c",
   "metadata": {},
   "outputs": [],
   "source": [
    "pred_nb = model2.predict(X_test)"
   ]
  },
  {
   "cell_type": "markdown",
   "id": "146cc9bc",
   "metadata": {},
   "source": [
    "### Confusion matrices"
   ]
  },
  {
   "cell_type": "markdown",
   "id": "cb0cc4de",
   "metadata": {},
   "source": [
    "Logistic Regression:\n"
   ]
  },
  {
   "cell_type": "code",
   "execution_count": 65,
   "id": "0d9e7a66",
   "metadata": {},
   "outputs": [
    {
     "name": "stdout",
     "output_type": "stream",
     "text": [
      "Confusion matrix:\n",
      "[[25005  6929]\n",
      " [ 7290 24776]]\n"
     ]
    }
   ],
   "source": [
    "confusion_log = confusion_matrix(y_test, pred_logreg)\n",
    "print(\"Confusion matrix:\\n{}\".format(confusion_log))"
   ]
  },
  {
   "cell_type": "code",
   "execution_count": 66,
   "id": "61bb9bfb",
   "metadata": {},
   "outputs": [
    {
     "name": "stdout",
     "output_type": "stream",
     "text": [
      "              precision    recall  f1-score   support\n",
      "\n",
      "           0       0.77      0.78      0.78     31934\n",
      "           4       0.78      0.77      0.78     32066\n",
      "\n",
      "    accuracy                           0.78     64000\n",
      "   macro avg       0.78      0.78      0.78     64000\n",
      "weighted avg       0.78      0.78      0.78     64000\n",
      "\n"
     ]
    }
   ],
   "source": [
    "print(classification_report(y_test,pred_logreg))"
   ]
  },
  {
   "cell_type": "code",
   "execution_count": 67,
   "id": "7f9a6c46",
   "metadata": {},
   "outputs": [
    {
     "data": {
      "image/png": "[encoded data removed]",
      "text/plain": [
       "<Figure size 432x288 with 2 Axes>"
      ]
     },
     "metadata": {
      "needs_background": "light"
     },
     "output_type": "display_data"
    }
   ],
   "source": [
    "labels = ['Negative', 'Positive']\n",
    "log_con_df = pd.DataFrame(confusion_log, index = labels,\n",
    "                  columns = labels)\n",
    "sns.heatmap(log_con_df/np.sum(log_con_df), annot=True, \n",
    "            fmt='.2%', cmap='Blues')\n",
    "#sns.heatmap(log_con_df, annot=True)\n",
    "plt.xlabel('Predicted Sentiment')\n",
    "plt.ylabel('True Sentiment')\n",
    "plt.savefig('logregcm.png')\n",
    "plt.show()"
   ]
  },
  {
   "cell_type": "markdown",
   "id": "2b555464",
   "metadata": {},
   "source": [
    "MultinominalNB:"
   ]
  },
  {
   "cell_type": "code",
   "execution_count": 68,
   "id": "17d7dace",
   "metadata": {},
   "outputs": [
    {
     "name": "stdout",
     "output_type": "stream",
     "text": [
      "Confusion matrix:\n",
      "[[24578  7356]\n",
      " [ 7813 24253]]\n"
     ]
    }
   ],
   "source": [
    "confusion_nb = confusion_matrix(y_test, pred_nb)\n",
    "print(\"Confusion matrix:\\n{}\".format(confusion_nb))"
   ]
  },
  {
   "cell_type": "code",
   "execution_count": 69,
   "id": "f7254228",
   "metadata": {},
   "outputs": [
    {
     "name": "stdout",
     "output_type": "stream",
     "text": [
      "              precision    recall  f1-score   support\n",
      "\n",
      "           0       0.76      0.77      0.76     31934\n",
      "           4       0.77      0.76      0.76     32066\n",
      "\n",
      "    accuracy                           0.76     64000\n",
      "   macro avg       0.76      0.76      0.76     64000\n",
      "weighted avg       0.76      0.76      0.76     64000\n",
      "\n"
     ]
    }
   ],
   "source": [
    "print(classification_report(y_test,pred_nb))"
   ]
  },
  {
   "cell_type": "code",
   "execution_count": 70,
   "id": "959698bd",
   "metadata": {},
   "outputs": [
    {
     "data": {
      "image/png": "[encoded data removed]",
      "text/plain": [
       "<Figure size 432x288 with 2 Axes>"
      ]
     },
     "metadata": {
      "needs_background": "light"
     },
     "output_type": "display_data"
    }
   ],
   "source": [
    "nb_con_df = pd.DataFrame(confusion_nb, index = labels,\n",
    "                  columns = labels)\n",
    "sns.heatmap(nb_con_df/np.sum(nb_con_df), annot=True, \n",
    "            fmt='.2%', cmap='Blues')\n",
    "#sns.heatmap(log_con_df, annot=True)\n",
    "plt.xlabel('Predicted Sentiment')\n",
    "plt.ylabel('True Sentiment')\n",
    "plt.savefig('nbcm.png')\n",
    "plt.show()"
   ]
  },
  {
   "cell_type": "code",
   "execution_count": null,
   "id": "9a4e4edd",
   "metadata": {},
   "outputs": [],
   "source": [
    "confusion_ranfor = confusion_matrix(y_test, pred_ranfor)\n",
    "print(\"Confusion matrix:\\n{}\".format(confusion_ranfor))"
   ]
  },
  {
   "cell_type": "markdown",
   "id": "1ff86b91",
   "metadata": {},
   "source": [
    "### Model Coefficients"
   ]
  },
  {
   "cell_type": "markdown",
   "id": "d9cbb929",
   "metadata": {},
   "source": [
    "Logistic Regression Model best estimator the 20 most important features"
   ]
  },
  {
   "cell_type": "code",
   "execution_count": 71,
   "id": "0dcf1524",
   "metadata": {},
   "outputs": [
    {
     "data": {
      "image/png": "[encoded data removed]",
      "text/plain": [
       "<Figure size 1080x360 with 1 Axes>"
      ]
     },
     "metadata": {
      "needs_background": "light"
     },
     "output_type": "display_data"
    }
   ],
   "source": [
    "vect = gs_logreg.best_estimator_.named_steps['vect']\n",
    "feature_names = np.array(vect.get_feature_names())\n",
    "coef =gs_logreg.best_estimator_.named_steps['lr'].coef_\n",
    "mglearn.tools.visualize_coefficients(coef, feature_names, n_top_features=20)"
   ]
  },
  {
   "cell_type": "code",
   "execution_count": 149,
   "id": "96fc90c3",
   "metadata": {},
   "outputs": [
    {
     "name": "stdout",
     "output_type": "stream",
     "text": [
      "1135484\n"
     ]
    }
   ],
   "source": [
    "print(len(feature_names))"
   ]
  }
 ],
 "metadata": {
  "kernelspec": {
   "display_name": "Python 3",
   "language": "python",
   "name": "python3"
  },
  "language_info": {
   "codemirror_mode": {
    "name": "ipython",
    "version": 3
   },
   "file_extension": ".py",
   "mimetype": "text/x-python",
   "name": "python",
   "nbconvert_exporter": "python",
   "pygments_lexer": "ipython3",
   "version": "3.8.8"
  }
 },
 "nbformat": 4,
 "nbformat_minor": 5
}
